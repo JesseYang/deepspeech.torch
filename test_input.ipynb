{
 "cells": [
  {
   "cell_type": "code",
   "execution_count": 37,
   "metadata": {
    "collapsed": false
   },
   "outputs": [],
   "source": [
    "require 'Loader'\n",
    "require 'Mapper'"
   ]
  },
  {
   "cell_type": "code",
   "execution_count": 38,
   "metadata": {
    "collapsed": false
   },
   "outputs": [
    {
     "ename": "[string \"indexer = indexer('./prepare_datasets/an4_lmd...\"]:1: indexer has no call operator\nstack traceback:\n\t[C]: in function 'indexer'\n\t[string \"indexer = indexer('./prepare_datasets/an4_lmd...\"]:1: in main chunk\n\t[C]: in function 'xpcall'\n\t/home/jesse/torch/install/share/lua/5.1/itorch/main.lua:210: in function </home/jesse/torch/install/share/lua/5.1/itorch/main.lua:174>\n\t/home/jesse/torch/install/share/lua/5.1/lzmq/poller.lua:75: in function 'poll'\n\t/home/jesse/torch/install/share/lua/5.1/lzmq/impl/loop.lua:307: in function 'poll'\n\t/home/jesse/torch/install/share/lua/5.1/lzmq/impl/loop.lua:325: in function 'sleep_ex'\n\t/home/jesse/torch/install/share/lua/5.1/lzmq/impl/loop.lua:370: in function 'start'\n\t/home/jesse/torch/install/share/lua/5.1/itorch/main.lua:389: in main chunk\n\t[C]: in function 'require'\n\t(command line):1: in main chunk\n\t[C]: at 0x00406670",
     "evalue": "",
     "output_type": "error",
     "traceback": [
      "[string \"indexer = indexer('./prepare_datasets/an4_lmd...\"]:1: indexer has no call operator\nstack traceback:\n\t[C]: in function 'indexer'\n\t[string \"indexer = indexer('./prepare_datasets/an4_lmd...\"]:1: in main chunk\n\t[C]: in function 'xpcall'\n\t/home/jesse/torch/install/share/lua/5.1/itorch/main.lua:210: in function </home/jesse/torch/install/share/lua/5.1/itorch/main.lua:174>\n\t/home/jesse/torch/install/share/lua/5.1/lzmq/poller.lua:75: in function 'poll'\n\t/home/jesse/torch/install/share/lua/5.1/lzmq/impl/loop.lua:307: in function 'poll'\n\t/home/jesse/torch/install/share/lua/5.1/lzmq/impl/loop.lua:325: in function 'sleep_ex'\n\t/home/jesse/torch/install/share/lua/5.1/lzmq/impl/loop.lua:370: in function 'start'\n\t/home/jesse/torch/install/share/lua/5.1/itorch/main.lua:389: in main chunk\n\t[C]: in function 'require'\n\t(command line):1: in main chunk\n\t[C]: at 0x00406670"
     ]
    }
   ],
   "source": [
    "indexer = indexer('./prepare_datasets/an4_lmdb/train/', 20)"
   ]
  },
  {
   "cell_type": "code",
   "execution_count": 39,
   "metadata": {
    "collapsed": true
   },
   "outputs": [],
   "source": [
    "mapper = Mapper('./dictionary')\n",
    "loader = Loader('./prepare_datasets/an4_lmdb/train/', mapper)"
   ]
  },
  {
   "cell_type": "code",
   "execution_count": 40,
   "metadata": {
    "collapsed": true
   },
   "outputs": [],
   "source": [
    "inds = indexer:nextIndices()"
   ]
  },
  {
   "cell_type": "code",
   "execution_count": 41,
   "metadata": {
    "collapsed": false
   },
   "outputs": [],
   "source": [
    "batch_data = loader:nextBatch(inds)"
   ]
  },
  {
   "cell_type": "code",
   "execution_count": 42,
   "metadata": {
    "collapsed": false
   },
   "outputs": [
    {
     "data": {
      "text/plain": [
       "  20\n",
       "   1\n",
       " 161\n",
       "  89\n",
       "[torch.LongStorage of size 4]\n",
       "\n"
      ]
     },
     "execution_count": 42,
     "metadata": {},
     "output_type": "execute_result"
    }
   ],
   "source": [
    "batch_data:size()"
   ]
  },
  {
   "cell_type": "code",
   "execution_count": null,
   "metadata": {
    "collapsed": true
   },
   "outputs": [],
   "source": []
  },
  {
   "cell_type": "code",
   "execution_count": null,
   "metadata": {
    "collapsed": true
   },
   "outputs": [],
   "source": []
  },
  {
   "cell_type": "code",
   "execution_count": null,
   "metadata": {
    "collapsed": true
   },
   "outputs": [],
   "source": []
  },
  {
   "cell_type": "code",
   "execution_count": null,
   "metadata": {
    "collapsed": true
   },
   "outputs": [],
   "source": []
  },
  {
   "cell_type": "code",
   "execution_count": 9,
   "metadata": {
    "collapsed": false
   },
   "outputs": [],
   "source": [
    "Network = require 'Network'"
   ]
  },
  {
   "cell_type": "code",
   "execution_count": 3,
   "metadata": {
    "collapsed": false
   },
   "outputs": [],
   "source": [
    "cmd = torch.CmdLine()\n",
    "cmd:option('-loadModel', false, 'Load previously saved model')\n",
    "cmd:option('-saveModel', true, 'Save model after training/testing')\n",
    "cmd:option('-modelName', 'DeepSpeechModel', 'Name of class containing architecture')\n",
    "cmd:option('-nGPU', 1, 'Number of GPUs, set -1 to use CPU')\n",
    "cmd:option('-trainingSetLMDBPath', './prepare_datasets/an4_lmdb/train/', 'Path to LMDB training dataset')\n",
    "cmd:option('-validationSetLMDBPath', './prepare_datasets/an4_lmdb/test/', 'Path to LMDB test dataset')\n",
    "cmd:option('-logsTrainPath', './logs/TrainingLoss/', ' Path to save Training logs')\n",
    "cmd:option('-logsValidationPath', './logs/ValidationScores/', ' Path to save Validation logs')\n",
    "cmd:option('-saveModelInTraining', false, 'save model periodically through training')\n",
    "cmd:option('-modelTrainingPath', './models/', ' Path to save periodic training models')\n",
    "cmd:option('-saveModelIterations', 50, 'When to save model through training')\n",
    "cmd:option('-modelPath', 'deepspeech.t7', 'Path of final model to save/load')\n",
    "cmd:option('-dictionaryPath', './dictionary', ' File containing the dictionary to use')\n",
    "cmd:option('-epochs', 70, 'Number of epochs for training')\n",
    "cmd:option('-learningRate', 3e-4, ' Training learning rate')\n",
    "cmd:option('-learningRateAnnealing', 1.1, 'Factor to anneal lr every epoch')\n",
    "cmd:option('-maxNorm', 400, 'Max norm used to normalize gradients')\n",
    "cmd:option('-momentum', 0.90, 'Momentum for SGD')\n",
    "cmd:option('-batchSize', 20, 'Batch size in training')\n",
    "cmd:option('-validationBatchSize', 20, 'Batch size for validation')\n",
    "cmd:option('-hiddenSize', 1760, 'RNN hidden sizes')\n",
    "cmd:option('-nbOfHiddenLayers', 7, 'Number of rnn layers')\n",
    "opt = cmd:parse(\"\")"
   ]
  },
  {
   "cell_type": "code",
   "execution_count": 7,
   "metadata": {
    "collapsed": false
   },
   "outputs": [],
   "source": [
    "optimParams = {\n",
    "    learningRate = opt.learningRate,\n",
    "    learningRateAnnealing = opt.learningRateAnnealing,\n",
    "    momentum = opt.momentum,\n",
    "    dampening = 0,\n",
    "    nesterov = true\n",
    "}"
   ]
  },
  {
   "cell_type": "code",
   "execution_count": 10,
   "metadata": {
    "collapsed": false
   },
   "outputs": [
    {
     "data": {
      "text/plain": [
       "\n"
      ]
     },
     "execution_count": 10,
     "metadata": {},
     "output_type": "execute_result"
    }
   ],
   "source": [
    "Network:init(opt)"
   ]
  },
  {
   "cell_type": "code",
   "execution_count": 61,
   "metadata": {
    "collapsed": false
   },
   "outputs": [
    {
     "data": {
      "text/plain": [
       "  20\n",
       "   1\n",
       " 161\n",
       "  89\n",
       "[torch.LongStorage of size 4]\n",
       "\n"
      ]
     },
     "execution_count": 61,
     "metadata": {},
     "output_type": "execute_result"
    }
   ],
   "source": [
    "inputs = batch_data:cuda()\n",
    "print(inputs:size())"
   ]
  },
  {
   "cell_type": "code",
   "execution_count": 54,
   "metadata": {
    "collapsed": false
   },
   "outputs": [
    {
     "data": {
      "text/plain": [
       "nn.Sequential {\n",
       "  [input -> (1) -> (2) -> (3) -> (4) -> (5) -> (6) -> (7) -> (8) -> output]\n",
       "  (1): cudnn.SpatialConvolution(1 -> 32, 11x41, 2,2)\n",
       "  (2): nn.SpatialBatchNormalization\n",
       "  (3): nn.Clamp\n",
       "  (4): cudnn.SpatialConvolution(32 -> 32, 11x21, 2,1)\n",
       "  (5): nn.SpatialBatchNormalization\n",
       "  (6): nn.Clamp\n",
       "  (7): nn.View(1312, -1)\n",
       "  (8): nn.Transpose\n",
       "}\n",
       "{\n",
       "  gradInput : CudaTensor - empty\n",
       "  modules : \n",
       "    {\n",
       "      1 : \n",
       "        cudnn.SpatialConvolution(1 -> 32, 11x41, 2,2)\n",
       "        {\n",
       "          padW : 0\n",
       "          pad : \n",
       "            {\n",
       "              1 : 0\n",
       "              2 : 0\n",
       "            }\n",
       "          nInputPlane : 1\n",
       "          output : CudaTensor - size: 20x32x61x40\n",
       "          gradInput : CudaTensor - empty\n",
       "          input_slice : CudaTensor - size: 20x1x161x89\n",
       "          iSize : LongStorage - size: 4\n",
       "          convDesc : cdata<struct cudnnConvolutionStruct *[?]>: 0x415dae30\n",
       "          weightDesc : cdata<struct cudnnFilterStruct *[?]>: 0x41fda7a0\n",
       "          padH : 0\n",
       "          _type : torch.CudaTensor\n",
       "          bias : CudaTensor - size: 32\n",
       "          biasDesc : cdata<struct cudnnTensorStruct *[1]>: 0x41fda188\n",
       "          output_slice : CudaTensor - size: 20x32x61x40\n",
       "          stride : \n",
       "            {\n",
       "              1 : 2\n",
       "              2 : 2\n",
       "            }\n",
       "          groups : 1\n",
       "          dH : 2\n",
       "          dW : 2\n",
       "          output_offset : 78080\n",
       "          kW : 11\n",
       "          kH : 41\n",
       "          weight_offset : 14432\n",
       "          oDescForBias : cdata<struct cudnnTensorStruct *[1]>: 0x415dbed0\n",
       "          gradBias : CudaTensor - size: 32\n",
       "          input_offset : 14329\n",
       "          oDesc : cdata<struct cudnnTensorStruct *[1]>: 0x415dbba0\n",
       "          weight : CudaTensor - size: 32x1x41x11\n",
       "          gradWeight : CudaTensor - size: 32x1x41x11\n",
       "          iDesc : cdata<struct cudnnTensorStruct *[1]>: 0x415da890\n",
       "          nOutputPlane : 32\n",
       "          oSize : LongStorage - size: 4\n",
       "          autotunerHash : -dimA20,1,161,89 -filtA32,1,41,11 20,32,61,40 -padA0,0 -convStrideA2,2 CUDNN_DATA_FLOAT\n",
       "        }\n",
       "      2 : \n",
       "        "
      ]
     },
     "execution_count": 54,
     "metadata": {},
     "output_type": "execute_result"
    },
    {
     "data": {
      "text/plain": [
       "nn.SpatialBatchNormalization\n",
       "        {\n",
       "          gradBias : CudaTensor - size: 32\n",
       "          weight : CudaTensor - size: 32\n",
       "          output : CudaTensor - size: 20x32x61x40\n",
       "          gradInput : CudaTensor - empty\n",
       "          save_mean : CudaTensor - size: 32\n",
       "          running_var : CudaTensor - size: 32\n",
       "          momentum : 0.1\n",
       "          gradWeight : CudaTensor - size: 32\n",
       "          eps : 1e-05\n",
       "          _type : torch.CudaTensor\n",
       "          affine : true\n",
       "          running_mean : CudaTensor - size: 32\n",
       "          bias : CudaTensor - size: 32\n",
       "          save_std : CudaTensor - size: 32\n",
       "          train : true\n",
       "        }\n",
       "      3 : \n",
       "        nn.Clamp\n",
       "        {\n",
       "          inplace : false\n",
       "          min_val : 0\n",
       "          output : CudaTensor - size: 20x32x61x40\n",
       "          gradInput : CudaTensor - empty\n",
       "          max_val : 20\n",
       "          _type : torch.CudaTensor\n",
       "        }\n",
       "      4 : \n",
       "        cudnn.SpatialConvolution(32 -> 32, 11x21, 2,1)\n",
       "        {\n",
       "          padW : 0\n",
       "          pad : \n",
       "            {\n",
       "              1 : 0\n",
       "              2 : 0\n",
       "            }\n",
       "          nInputPlane : 32\n",
       "          output : CudaTensor - size: 20x32x41x15\n",
       "          gradInput : CudaTensor - empty\n",
       "          input_slice : CudaTensor - size: 20x32x61x40\n",
       "          iSize : LongStorage - size: 4\n",
       "          convDesc : cdata<struct cudnnConvolutionStruct *[?]>: 0x415df118\n",
       "          weightDesc : cdata<struct cudnnFilterStruct *[?]>: 0x415de998\n",
       "          padH : 0\n",
       "          _type : torch.CudaTensor\n",
       "          bias : CudaTensor - size: 32\n",
       "          biasDesc : cdata<struct cudnnTensorStruct *[1]>: 0x415de558\n",
       "          output_slice : CudaTensor - size: 20x32x41x15\n",
       "          stride : \n",
       "            {\n",
       "              1 : 1\n",
       "              2 : 2\n",
       "            }\n",
       "          groups : 1\n",
       "          dH : 1\n",
       "          dW : 2\n",
       "          output_offset : 19680\n",
       "          kW : 11\n",
       "          kH : 21\n",
       "          weight_offset : 236544\n",
       "          oDescForBias : cdata<struct cudnnTensorStruct *[1]>: 0x415df948\n",
       "          gradBias : CudaTensor - size: 32\n",
       "          input_offset : 78080\n",
       "          oDesc : cdata<struct cudnnTensorStruct *[1]>: 0x415df618\n",
       "          weight : CudaTensor - size: 32x32x21x11\n",
       "          gradWeight : CudaTensor - size: 32x32x21x11\n",
       "          iDesc : cdata<struct cudnnTensorStruct *[1]>: 0x415decd0\n",
       "          nOutputPlane : 32\n",
       "          oSize : LongStorage - size: 4\n",
       "          autotunerHash : -dimA20,32,61,40 -filtA32,32,21,11 20,32,41,15 -padA0,0 -convStrideA1,2 CUDNN_DATA_FLOAT\n",
       "        }\n",
       "      5 : \n",
       "        nn.SpatialBatchNormalization\n",
       "        {\n",
       "          gradBias : CudaTensor - size: 32\n",
       "          weight : CudaTensor - size: 32\n",
       "          output : CudaTensor - size: 20x32x41x15\n",
       "          gradInput : CudaTensor - empty\n",
       "          save_mean : CudaTensor - size: 32\n",
       "          running_var : CudaTensor - size: 32\n",
       "          momentum : 0.1\n",
       "          gradWeight : CudaTensor - size: 32\n",
       "          eps : 1e-05\n",
       "          _type : torch.CudaTensor\n",
       "          affine : true\n",
       "          running_mean : CudaTensor - size: 32\n",
       "          bias : CudaTensor - size: 32\n"
      ]
     },
     "execution_count": 54,
     "metadata": {},
     "output_type": "execute_result"
    },
    {
     "data": {
      "text/plain": [
       "          save_std : CudaTensor - size: 32\n",
       "          train : true\n",
       "        }\n",
       "      6 : \n",
       "        nn.Clamp\n",
       "        {\n",
       "          inplace : false\n",
       "          min_val : 0\n",
       "          output : CudaTensor - size: 20x32x41x15\n",
       "          gradInput : CudaTensor - empty\n",
       "          max_val : 20\n",
       "          _type : torch.CudaTensor\n",
       "        }\n",
       "      7 : \n",
       "        nn.View(1312, -1)\n",
       "        {\n",
       "          _type : torch.CudaTensor\n",
       "          output : CudaTensor - size: 20x1312x15\n",
       "          gradInput : CudaTensor - empty\n",
       "          size : LongStorage - size: 2\n",
       "          numInputDims : 3\n",
       "          numElements : 1312\n",
       "        }\n",
       "      8 : \n",
       "        nn.Transpose\n",
       "        {\n",
       "          gradInput : CudaTensor - empty\n",
       "          permutations : \n",
       "            {\n",
       "              1 : \n",
       "                {\n",
       "                  1 : 2\n",
       "                  2 : 3\n",
       "                }\n",
       "              2 : \n",
       "                {\n",
       "                  1 : 1\n",
       "                  2 : 2\n",
       "                }\n",
       "            }\n",
       "          _type : torch.CudaTensor\n",
       "          output : CudaTensor - size: 15x20x1312\n",
       "        }\n",
       "    }\n",
       "  _type : torch.CudaTensor\n",
       "  output : CudaTensor - size: 15x20x1312\n",
       "}\n"
      ]
     },
     "execution_count": 54,
     "metadata": {},
     "output_type": "execute_result"
    }
   ],
   "source": [
    "Network.model:get(1)"
   ]
  },
  {
   "cell_type": "code",
   "execution_count": 63,
   "metadata": {
    "collapsed": false
   },
   "outputs": [],
   "source": [
    "d1 = Network.model:get(1):forward(inputs)"
   ]
  },
  {
   "cell_type": "code",
   "execution_count": 66,
   "metadata": {
    "collapsed": false
   },
   "outputs": [],
   "source": [
    "d2 = Network.model:get(2):forward(d1)"
   ]
  },
  {
   "cell_type": "code",
   "execution_count": 67,
   "metadata": {
    "collapsed": false
   },
   "outputs": [
    {
     "data": {
      "text/plain": [
       "   15\n",
       "   20\n",
       " 1760\n",
       "[torch.LongStorage of size 3]\n",
       "\n"
      ]
     },
     "execution_count": 67,
     "metadata": {},
     "output_type": "execute_result"
    }
   ],
   "source": [
    "d2:size()"
   ]
  }
 ],
 "metadata": {
  "kernelspec": {
   "display_name": "iTorch",
   "language": "lua",
   "name": "itorch"
  },
  "language_info": {
   "name": "lua",
   "version": "5.1"
  }
 },
 "nbformat": 4,
 "nbformat_minor": 1
}
